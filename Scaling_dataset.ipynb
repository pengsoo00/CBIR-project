{
 "cells": [
  {
   "cell_type": "code",
   "execution_count": 1,
   "id": "292da626",
   "metadata": {},
   "outputs": [],
   "source": [
    "import numpy as np\n",
    "import pandas as pd\n",
    "\n",
    "import skimage\n",
    "import skimage.io\n",
    "from skimage.transform import resize\n",
    "\n",
    "import matplotlib.pyplot as plt\n",
    "import seaborn as sns\n",
    "import time\n",
    "import cv2\n",
    "\n",
    "import os\n",
    "import shutil\n",
    "\n",
    "from math import sqrt\n",
    "from numpy import dot\n",
    "from numpy.linalg import norm"
   ]
  },
  {
   "cell_type": "code",
   "execution_count": 2,
   "id": "31142418",
   "metadata": {},
   "outputs": [],
   "source": [
    "# Название предмета изображения\n",
    "imgs_name_1 = \"airplane\"\n",
    "imgs_name_2 = \"cars\""
   ]
  },
  {
   "cell_type": "code",
   "execution_count": 3,
   "id": "4c5c0f68",
   "metadata": {},
   "outputs": [
    {
     "name": "stdout",
     "output_type": "stream",
     "text": [
      "Shuffle before: [1 2 3]\n",
      "\t after: [2 1 3]\n"
     ]
    }
   ],
   "source": [
    "# Загрузка и подготовка данных\n",
    "\n",
    "# Переименует названия картинок\n",
    "def rename_imgs(file_path):\n",
    "    file_names = os.listdir(file_path)\n",
    "    i = 0\n",
    "    for name in file_names:\n",
    "        src = os.path.join(file_path, name)\n",
    "        dst = str(i) + \".jpg\"\n",
    "        dst = os.path.join(file_path, dst)\n",
    "        if not os.path.isfile(dst):\n",
    "            os.rename(src, dst) \n",
    "        i += 1\n",
    "    \n",
    "    return \"Done\"\n",
    "\n",
    "# Преобразует картинку в матрицу\n",
    "def jpg2numpy(file_path):\n",
    "    img = skimage.io.imread(file_path)\n",
    "    resized_img = cv2.resize(img, dsize=(img_size, img_size), interpolation=cv2.INTER_CUBIC)\n",
    "    return np.array(resized_img)\n",
    "\n",
    "# Перемешивает случайным образом изображений\n",
    "def shuffle_imgs(matrix):\n",
    "    return np.random.shuffle(matrix)\n",
    "\n",
    "A = np.array([1, 2, 3])\n",
    "print(\"Shuffle before:\", A)\n",
    "shuffle_imgs(A)\n",
    "print(\"\\t after:\", A)\n",
    "\n",
    "# Разделяет выборку на поисковую и тестовую часть\n",
    "def test_search_split(matrix, test_size=0.3, shuffle=True):\n",
    "    matrix_ = matrix.copy()\n",
    "    if shuffle:\n",
    "        shuffle_imgs(matrix_)\n",
    "    size_of_matrix = len(matrix_)\n",
    "    threshold = round(size_of_matrix * test_size)\n",
    "    return matrix_[:threshold], matrix_[threshold:]\n",
    "\n",
    "A = np.array([[1, 2, 3], [4, 5, 6], [7, 8, 9]])\n",
    "B, C = test_search_split(A, shuffle=False)\n",
    "np.testing.assert_array_equal(B, np.array([[1, 2, 3]]))\n",
    "np.testing.assert_array_equal(C, np.array([[4, 5, 6], [7, 8, 9]]))\n",
    "assert len(B) + len(C) == len(A)\n",
    "\n",
    "# Сохраняет matrix-изображения в file_path\n",
    "def save_imgs(file_path, matrix):\n",
    "    count_of_imgs = len(matrix)\n",
    "    for i in range(0, count_of_imgs):\n",
    "        skimage.io.imsave(file_path + \"\\\\%d.jpg\"%(i), matrix[i])\n",
    "    return \"Done\""
   ]
  },
  {
   "cell_type": "code",
   "execution_count": 4,
   "id": "b6d7af6e",
   "metadata": {},
   "outputs": [
    {
     "name": "stdout",
     "output_type": "stream",
     "text": [
      "--- 63.091530084609985 seconds ---\n"
     ]
    }
   ],
   "source": [
    "start_time = time.time()\n",
    "# Переименуем изображения, чтобы легче обратиться к конкретному изображению\n",
    "file_path_1 = \"data_\\\\%s\"%(imgs_name_1)\n",
    "file_path_2 = \"data_\\\\%s\"%(imgs_name_2)\n",
    "rename_imgs(file_path_1)\n",
    "rename_imgs(file_path_2)\n",
    "\n",
    "imgs_1, imgs_2 = [], []\n",
    "\n",
    "# Количесвто изображений на каждый объект (самолет, автомобиль)\n",
    "N = 1000\n",
    "# Размер изображения\n",
    "img_size = 256\n",
    "\n",
    "for i in range(N):\n",
    "    # Для первого объекта\n",
    "    file_path = \"data_\\\\%s\\\\%d.jpg\"%(imgs_name_1, i)\n",
    "    imgs_1.append(jpg2numpy(file_path))\n",
    "\n",
    "    # Для второго объекта\n",
    "    file_path = \"data_\\\\%s\\\\%d.jpg\"%(imgs_name_2, i)\n",
    "    imgs_2.append(jpg2numpy(file_path))\n",
    "\n",
    "# массив преобразуем в numpy\n",
    "imgs_1 = np.array(imgs_1)\n",
    "imgs_2 = np.array(imgs_2)\n",
    "\n",
    "# склеим две матрицы в одну\n",
    "imgs = np.concatenate((imgs_1, imgs_2))\n",
    "\n",
    "assert imgs_1.shape == (N, img_size, img_size, 3)\n",
    "assert imgs_2.shape == (N, img_size, img_size, 3)\n",
    "assert imgs.shape == (2 * N, img_size, img_size, 3)\n",
    "\n",
    "# создание тестового, поискового файла\n",
    "test_file_path= \"data_\\\\test_dataset\"\n",
    "search_file_path = \"data_\\\\search_dataset\"\n",
    "test_imgs, search_imgs = test_search_split(imgs, shuffle=True)\n",
    "save_imgs(test_file_path, test_imgs)\n",
    "save_imgs(search_file_path, search_imgs)\n",
    "\n",
    "print(\"--- %s seconds ---\" % (time.time() - start_time))"
   ]
  },
  {
   "cell_type": "code",
   "execution_count": null,
   "id": "ebb3a2fe",
   "metadata": {},
   "outputs": [],
   "source": []
  }
 ],
 "metadata": {
  "kernelspec": {
   "display_name": "Python 3",
   "language": "python",
   "name": "python3"
  },
  "language_info": {
   "codemirror_mode": {
    "name": "ipython",
    "version": 3
   },
   "file_extension": ".py",
   "mimetype": "text/x-python",
   "name": "python",
   "nbconvert_exporter": "python",
   "pygments_lexer": "ipython3",
   "version": "3.8.8"
  }
 },
 "nbformat": 4,
 "nbformat_minor": 5
}
